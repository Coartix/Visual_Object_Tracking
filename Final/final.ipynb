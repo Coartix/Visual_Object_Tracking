{
 "cells": [
  {
   "cell_type": "code",
   "execution_count": 1,
   "metadata": {},
   "outputs": [],
   "source": [
    "import pandas as pd\n",
    "import os\n",
    "import numpy as np\n",
    "import cv2\n",
    "from utils import draw_tracking_result, save_tracking_results, load_detections\n",
    "from tracks import track_iou, create_similarity_matrix, associate_detections_to_tracks, update_tracks, initialize_new_track, look_forward, init_model\n",
    "from KalmanFilter import KalmanFilter"
   ]
  },
  {
   "cell_type": "markdown",
   "metadata": {},
   "source": [
    "###  Loading det object instances"
   ]
  },
  {
   "cell_type": "code",
   "execution_count": 2,
   "metadata": {},
   "outputs": [
    {
     "data": {
      "text/html": [
       "<div>\n",
       "<style scoped>\n",
       "    .dataframe tbody tr th:only-of-type {\n",
       "        vertical-align: middle;\n",
       "    }\n",
       "\n",
       "    .dataframe tbody tr th {\n",
       "        vertical-align: top;\n",
       "    }\n",
       "\n",
       "    .dataframe thead th {\n",
       "        text-align: right;\n",
       "    }\n",
       "</style>\n",
       "<table border=\"1\" class=\"dataframe\">\n",
       "  <thead>\n",
       "    <tr style=\"text-align: right;\">\n",
       "      <th></th>\n",
       "      <th>frame</th>\n",
       "      <th>id</th>\n",
       "      <th>bb_left</th>\n",
       "      <th>bb_top</th>\n",
       "      <th>bb_width</th>\n",
       "      <th>bb_height</th>\n",
       "      <th>conf</th>\n",
       "      <th>x</th>\n",
       "      <th>y</th>\n",
       "      <th>z</th>\n",
       "    </tr>\n",
       "  </thead>\n",
       "  <tbody>\n",
       "    <tr>\n",
       "      <th>0</th>\n",
       "      <td>1</td>\n",
       "      <td>-1</td>\n",
       "      <td>1689</td>\n",
       "      <td>385</td>\n",
       "      <td>146.620</td>\n",
       "      <td>332.710</td>\n",
       "      <td>67.567</td>\n",
       "      <td>-1</td>\n",
       "      <td>-1</td>\n",
       "      <td>-1</td>\n",
       "    </tr>\n",
       "    <tr>\n",
       "      <th>1</th>\n",
       "      <td>1</td>\n",
       "      <td>-1</td>\n",
       "      <td>1303</td>\n",
       "      <td>503</td>\n",
       "      <td>61.514</td>\n",
       "      <td>139.590</td>\n",
       "      <td>29.439</td>\n",
       "      <td>-1</td>\n",
       "      <td>-1</td>\n",
       "      <td>-1</td>\n",
       "    </tr>\n",
       "    <tr>\n",
       "      <th>2</th>\n",
       "      <td>1</td>\n",
       "      <td>-1</td>\n",
       "      <td>1258</td>\n",
       "      <td>569</td>\n",
       "      <td>40.123</td>\n",
       "      <td>91.049</td>\n",
       "      <td>19.601</td>\n",
       "      <td>-1</td>\n",
       "      <td>-1</td>\n",
       "      <td>-1</td>\n",
       "    </tr>\n",
       "    <tr>\n",
       "      <th>3</th>\n",
       "      <td>1</td>\n",
       "      <td>-1</td>\n",
       "      <td>31</td>\n",
       "      <td>525</td>\n",
       "      <td>113.370</td>\n",
       "      <td>257.270</td>\n",
       "      <td>17.013</td>\n",
       "      <td>-1</td>\n",
       "      <td>-1</td>\n",
       "      <td>-1</td>\n",
       "    </tr>\n",
       "    <tr>\n",
       "      <th>4</th>\n",
       "      <td>1</td>\n",
       "      <td>-1</td>\n",
       "      <td>1800</td>\n",
       "      <td>483</td>\n",
       "      <td>94.660</td>\n",
       "      <td>214.810</td>\n",
       "      <td>11.949</td>\n",
       "      <td>-1</td>\n",
       "      <td>-1</td>\n",
       "      <td>-1</td>\n",
       "    </tr>\n",
       "  </tbody>\n",
       "</table>\n",
       "</div>"
      ],
      "text/plain": [
       "   frame  id  bb_left  bb_top  bb_width  bb_height    conf  x  y  z\n",
       "0      1  -1     1689     385   146.620    332.710  67.567 -1 -1 -1\n",
       "1      1  -1     1303     503    61.514    139.590  29.439 -1 -1 -1\n",
       "2      1  -1     1258     569    40.123     91.049  19.601 -1 -1 -1\n",
       "3      1  -1       31     525   113.370    257.270  17.013 -1 -1 -1\n",
       "4      1  -1     1800     483    94.660    214.810  11.949 -1 -1 -1"
      ]
     },
     "execution_count": 2,
     "metadata": {},
     "output_type": "execute_result"
    }
   ],
   "source": [
    "det_file_path = '../data/det/det.txt'\n",
    "gt_gile_path = '../data/gt/gt.txt'\n",
    "detections_df = load_detections(det_file_path)\n",
    "detections_df.head()"
   ]
  },
  {
   "cell_type": "code",
   "execution_count": 3,
   "metadata": {},
   "outputs": [
    {
     "name": "stdout",
     "output_type": "stream",
     "text": [
      "Min bb_width:  26.0\n",
      "Min bb_height:  59.0\n"
     ]
    }
   ],
   "source": [
    "# Show min bb_width and bb_height\n",
    "print('Min bb_width: ', detections_df['bb_width'].min())\n",
    "print('Min bb_height: ', detections_df['bb_height'].min())"
   ]
  },
  {
   "cell_type": "code",
   "execution_count": 4,
   "metadata": {},
   "outputs": [],
   "source": [
    "# Convert conf column to float\n",
    "detections_df['conf'] = detections_df['conf'].astype(float)"
   ]
  },
  {
   "cell_type": "markdown",
   "metadata": {},
   "source": [
    "#### Interface (main loop)"
   ]
  },
  {
   "cell_type": "code",
   "execution_count": 5,
   "metadata": {},
   "outputs": [
    {
     "data": {
      "text/plain": [
       "'# Main loop\\nimage_frames_path = \\'../data/img1/\\' \\n\\n# Define properties for the output video\\nfps = 40\\nframe_size = (1920, 1080) # Adjust this to match the size of your frames\\nfourcc = cv2.VideoWriter_fourcc(*\\'mp4v\\')  # Use \\'mp4v\\' codec\\nout = cv2.VideoWriter(\\'output_with_tracking.mp4\\', fourcc, fps, frame_size)\\ndelay = int(1000/fps)\\n\\n# Initialize tracking variables\\ntracks_history = {}\\nframe_number = 1\\nCONF_THRESH = 28.0\\nsigma = 0.1\\nnb_step = 10\\n\\ninit_model()\\n\\ntracking_file = \\'track.txt\\'\\nif os.path.isfile(tracking_file):\\n    open(tracking_file, \\'w\\').close()\\nelse:\\n    open(tracking_file, \\'x\\')\\n\\n# Process each image frame\\nfor filename in sorted(os.listdir(image_frames_path)):\\n    if filename.endswith(\".jpg\"):\\n        frame_path = os.path.join(image_frames_path, filename)\\n        frame = cv2.imread(frame_path)\\n\\n        # Looking forward\\n        tracks_history = look_forward(\\n            detections_df,\\n            tracks_history,\\n            frame_number,\\n            frame,\\n            image_frames_path,\\n            nb_step=nb_step,\\n            sigma=sigma,\\n            conf_threshold=CONF_THRESH\\n        )\\n        \\n        # Draw tracking\\n        frame_with_tracking = draw_tracking_result(frame, tracks_history[frame_number])\\n        # Save the tracking results\\n        save_tracking_results(tracks_history[frame_number], tracking_file, frame_number)\\n\\n        # Show the frame\\n        cv2.imshow(\\'Tracking\\', frame_with_tracking)\\n        if cv2.waitKey(delay) & 0xFF == ord(\\'q\\'):\\n            break\\n        out.write(frame_with_tracking)\\n\\n        frame_number += 1\\n\\nout.release()\\ncv2.destroyAllWindows()'"
      ]
     },
     "execution_count": 5,
     "metadata": {},
     "output_type": "execute_result"
    }
   ],
   "source": [
    "'''# Main loop\n",
    "image_frames_path = '../data/img1/' \n",
    "\n",
    "# Define properties for the output video\n",
    "fps = 40\n",
    "frame_size = (1920, 1080) # Adjust this to match the size of your frames\n",
    "fourcc = cv2.VideoWriter_fourcc(*'mp4v')  # Use 'mp4v' codec\n",
    "out = cv2.VideoWriter('output_with_tracking.mp4', fourcc, fps, frame_size)\n",
    "delay = int(1000/fps)\n",
    "\n",
    "# Initialize tracking variables\n",
    "tracks_history = {}\n",
    "frame_number = 1\n",
    "CONF_THRESH = 28.0\n",
    "sigma = 0.1\n",
    "nb_step = 10\n",
    "\n",
    "init_model()\n",
    "\n",
    "tracking_file = 'track.txt'\n",
    "if os.path.isfile(tracking_file):\n",
    "    open(tracking_file, 'w').close()\n",
    "else:\n",
    "    open(tracking_file, 'x')\n",
    "\n",
    "# Process each image frame\n",
    "for filename in sorted(os.listdir(image_frames_path)):\n",
    "    if filename.endswith(\".jpg\"):\n",
    "        frame_path = os.path.join(image_frames_path, filename)\n",
    "        frame = cv2.imread(frame_path)\n",
    "\n",
    "        # Looking forward\n",
    "        tracks_history = look_forward(\n",
    "            detections_df,\n",
    "            tracks_history,\n",
    "            frame_number,\n",
    "            frame,\n",
    "            image_frames_path,\n",
    "            nb_step=nb_step,\n",
    "            sigma=sigma,\n",
    "            conf_threshold=CONF_THRESH\n",
    "        )\n",
    "        \n",
    "        # Draw tracking\n",
    "        frame_with_tracking = draw_tracking_result(frame, tracks_history[frame_number])\n",
    "        # Save the tracking results\n",
    "        save_tracking_results(tracks_history[frame_number], tracking_file, frame_number)\n",
    "\n",
    "        # Show the frame\n",
    "        cv2.imshow('Tracking', frame_with_tracking)\n",
    "        if cv2.waitKey(delay) & 0xFF == ord('q'):\n",
    "            break\n",
    "        out.write(frame_with_tracking)\n",
    "\n",
    "        frame_number += 1\n",
    "\n",
    "out.release()\n",
    "cv2.destroyAllWindows()'''"
   ]
  },
  {
   "cell_type": "markdown",
   "metadata": {},
   "source": [
    "Removing noise"
   ]
  },
  {
   "cell_type": "code",
   "execution_count": 6,
   "metadata": {},
   "outputs": [],
   "source": [
    "import pandas as pd\n",
    "\n",
    "# Define minimum box width and height thresholds\n",
    "MIN_WIDTH_THRESHOLD = 30\n",
    "MIN_HEIGHT_THRESHOLD = 60\n",
    "\n",
    "# Filter out detections with boxes smaller than the threshold\n",
    "filtered_detections_df = detections_df[\n",
    "    (detections_df['bb_width'] >= MIN_WIDTH_THRESHOLD) &\n",
    "    (detections_df['bb_height'] >= MIN_HEIGHT_THRESHOLD)\n",
    "]"
   ]
  },
  {
   "cell_type": "code",
   "execution_count": 7,
   "metadata": {},
   "outputs": [],
   "source": [
    "detections_df.to_csv('../data/det/preprocessed_det.txt', sep=',', index=False, header=False)"
   ]
  }
 ],
 "metadata": {
  "kernelspec": {
   "display_name": "Python 3",
   "language": "python",
   "name": "python3"
  },
  "language_info": {
   "codemirror_mode": {
    "name": "ipython",
    "version": 3
   },
   "file_extension": ".py",
   "mimetype": "text/x-python",
   "name": "python",
   "nbconvert_exporter": "python",
   "pygments_lexer": "ipython3",
   "version": "3.10.12"
  }
 },
 "nbformat": 4,
 "nbformat_minor": 2
}
