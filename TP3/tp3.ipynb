{
 "cells": [
  {
   "cell_type": "code",
   "execution_count": 1,
   "metadata": {},
   "outputs": [],
   "source": [
    "import pandas as pd\n",
    "import os\n",
    "import numpy as np\n",
    "import cv2\n",
    "from utils import load_detections, track_iou, create_similarity_matrix, associate_detections_to_tracks, update_tracks, draw_tracking_result, save_tracking_results"
   ]
  },
  {
   "cell_type": "markdown",
   "metadata": {},
   "source": [
    "###  Loading det object instances"
   ]
  },
  {
   "cell_type": "code",
   "execution_count": 2,
   "metadata": {},
   "outputs": [
    {
     "data": {
      "text/html": [
       "<div>\n",
       "<style scoped>\n",
       "    .dataframe tbody tr th:only-of-type {\n",
       "        vertical-align: middle;\n",
       "    }\n",
       "\n",
       "    .dataframe tbody tr th {\n",
       "        vertical-align: top;\n",
       "    }\n",
       "\n",
       "    .dataframe thead th {\n",
       "        text-align: right;\n",
       "    }\n",
       "</style>\n",
       "<table border=\"1\" class=\"dataframe\">\n",
       "  <thead>\n",
       "    <tr style=\"text-align: right;\">\n",
       "      <th></th>\n",
       "      <th>frame</th>\n",
       "      <th>id</th>\n",
       "      <th>bb_left</th>\n",
       "      <th>bb_top</th>\n",
       "      <th>bb_width</th>\n",
       "      <th>bb_height</th>\n",
       "      <th>conf</th>\n",
       "      <th>x</th>\n",
       "      <th>y</th>\n",
       "      <th>z</th>\n",
       "    </tr>\n",
       "  </thead>\n",
       "  <tbody>\n",
       "    <tr>\n",
       "      <th>0</th>\n",
       "      <td>1</td>\n",
       "      <td>-1</td>\n",
       "      <td>1689</td>\n",
       "      <td>385</td>\n",
       "      <td>146.620</td>\n",
       "      <td>332.710</td>\n",
       "      <td>67.567</td>\n",
       "      <td>-1</td>\n",
       "      <td>-1</td>\n",
       "      <td>-1</td>\n",
       "    </tr>\n",
       "    <tr>\n",
       "      <th>1</th>\n",
       "      <td>1</td>\n",
       "      <td>-1</td>\n",
       "      <td>1303</td>\n",
       "      <td>503</td>\n",
       "      <td>61.514</td>\n",
       "      <td>139.590</td>\n",
       "      <td>29.439</td>\n",
       "      <td>-1</td>\n",
       "      <td>-1</td>\n",
       "      <td>-1</td>\n",
       "    </tr>\n",
       "    <tr>\n",
       "      <th>2</th>\n",
       "      <td>1</td>\n",
       "      <td>-1</td>\n",
       "      <td>1258</td>\n",
       "      <td>569</td>\n",
       "      <td>40.123</td>\n",
       "      <td>91.049</td>\n",
       "      <td>19.601</td>\n",
       "      <td>-1</td>\n",
       "      <td>-1</td>\n",
       "      <td>-1</td>\n",
       "    </tr>\n",
       "    <tr>\n",
       "      <th>3</th>\n",
       "      <td>1</td>\n",
       "      <td>-1</td>\n",
       "      <td>31</td>\n",
       "      <td>525</td>\n",
       "      <td>113.370</td>\n",
       "      <td>257.270</td>\n",
       "      <td>17.013</td>\n",
       "      <td>-1</td>\n",
       "      <td>-1</td>\n",
       "      <td>-1</td>\n",
       "    </tr>\n",
       "    <tr>\n",
       "      <th>4</th>\n",
       "      <td>1</td>\n",
       "      <td>-1</td>\n",
       "      <td>1800</td>\n",
       "      <td>483</td>\n",
       "      <td>94.660</td>\n",
       "      <td>214.810</td>\n",
       "      <td>11.949</td>\n",
       "      <td>-1</td>\n",
       "      <td>-1</td>\n",
       "      <td>-1</td>\n",
       "    </tr>\n",
       "  </tbody>\n",
       "</table>\n",
       "</div>"
      ],
      "text/plain": [
       "   frame  id  bb_left  bb_top  bb_width  bb_height    conf  x  y  z\n",
       "0      1  -1     1689     385   146.620    332.710  67.567 -1 -1 -1\n",
       "1      1  -1     1303     503    61.514    139.590  29.439 -1 -1 -1\n",
       "2      1  -1     1258     569    40.123     91.049  19.601 -1 -1 -1\n",
       "3      1  -1       31     525   113.370    257.270  17.013 -1 -1 -1\n",
       "4      1  -1     1800     483    94.660    214.810  11.949 -1 -1 -1"
      ]
     },
     "execution_count": 2,
     "metadata": {},
     "output_type": "execute_result"
    }
   ],
   "source": [
    "det_file_path = '../data/det/det.txt'\n",
    "detections_df = load_detections(det_file_path)\n",
    "detections_df.head()"
   ]
  },
  {
   "cell_type": "code",
   "execution_count": 3,
   "metadata": {},
   "outputs": [],
   "source": [
    "tracks = []\n",
    "frame_number = 1\n",
    "sigma_iou = 0.5"
   ]
  },
  {
   "cell_type": "markdown",
   "metadata": {},
   "source": [
    "#### IoU for tracking"
   ]
  },
  {
   "cell_type": "code",
   "execution_count": 4,
   "metadata": {},
   "outputs": [
    {
     "data": {
      "text/plain": [
       "array([[1.        , 0.        , 0.        , 0.        , 0.12448738],\n",
       "       [0.        , 0.74473154, 0.        , 0.        , 0.        ],\n",
       "       [0.36184537, 0.        , 0.        , 0.        , 0.35833176],\n",
       "       [0.        , 0.0219888 , 0.54437704, 0.        , 0.        ],\n",
       "       [0.        , 0.        , 0.        , 0.6335195 , 0.        ],\n",
       "       [0.        , 0.        , 0.        , 0.        , 0.        ]])"
      ]
     },
     "execution_count": 4,
     "metadata": {},
     "output_type": "execute_result"
    }
   ],
   "source": [
    "# Example with frame 1 and 2\n",
    "# Create previous tracks\n",
    "previous_tracks = []\n",
    "for i, row in detections_df[detections_df['frame'] == 1].iterrows():\n",
    "    center = (int(row['bb_left'] + row['bb_width'] / 2), int(row['bb_top'] + row['bb_height'] / 2))\n",
    "    previous_tracks.append({\n",
    "        'id': row['id'],\n",
    "        'frames': [row['frame']],\n",
    "        'box': [row['bb_left'], row['bb_top'], row['bb_width'], row['bb_height']],\n",
    "        'conf': [row['conf']],\n",
    "        'positions': [center]\n",
    "    })\n",
    "\n",
    "# Create current detections\n",
    "current_detections = []\n",
    "for i, row in detections_df[detections_df['frame'] == 2].iterrows():\n",
    "    current_detections.append([row['bb_left'], row['bb_top'], row['bb_width'], row['bb_height']])\n",
    "\n",
    "# Create similarity matrix\n",
    "similarity_matrix = create_similarity_matrix(current_detections, previous_tracks)\n",
    "similarity_matrix"
   ]
  },
  {
   "cell_type": "markdown",
   "metadata": {},
   "source": [
    "#### Associate detections to tracks"
   ]
  },
  {
   "cell_type": "code",
   "execution_count": 5,
   "metadata": {},
   "outputs": [
    {
     "data": {
      "text/plain": [
       "([(0, 0), (1, 1), (3, 2), (4, 3)], [2, 5], [4])"
      ]
     },
     "execution_count": 5,
     "metadata": {},
     "output_type": "execute_result"
    }
   ],
   "source": [
    "# Example with frame 1 and 2\n",
    "matches, unmatched_detections, unmatched_tracks = associate_detections_to_tracks(similarity_matrix, sigma_iou)\n",
    "matches, unmatched_detections, unmatched_tracks"
   ]
  },
  {
   "cell_type": "markdown",
   "metadata": {},
   "source": [
    "#### Track management"
   ]
  },
  {
   "cell_type": "code",
   "execution_count": 6,
   "metadata": {},
   "outputs": [
    {
     "data": {
      "text/plain": [
       "[{'id': -1.0,\n",
       "  'frames': [1.0, 2],\n",
       "  'box': [1689.0, 385.0, 146.62, 332.71],\n",
       "  'conf': 66.725,\n",
       "  'positions': [(1762, 551), (1762, 551)]},\n",
       " {'id': -1.0,\n",
       "  'frames': [1.0, 2],\n",
       "  'box': [1312.0, 503.0, 61.514, 139.59],\n",
       "  'conf': 36.614,\n",
       "  'positions': [(1333, 572), (1342, 572)]},\n",
       " {'id': -1.0,\n",
       "  'frames': [1.0, 2],\n",
       "  'box': [1254.0, 537.0, 52.0, 118.0],\n",
       "  'conf': 15.979,\n",
       "  'positions': [(1278, 614), (1280, 596)]},\n",
       " {'id': -1.0,\n",
       "  'frames': [1.0, 2],\n",
       "  'box': [55.0, 542.0, 94.66, 214.81],\n",
       "  'conf': 9.3326,\n",
       "  'positions': [(87, 653), (102, 649)]},\n",
       " {'id': 1,\n",
       "  'box': [1744.0, 476.0, 123.42, 280.06],\n",
       "  'conf': 16.976,\n",
       "  'frames': [2],\n",
       "  'positions': [(1805, 616)]},\n",
       " {'id': 2,\n",
       "  'box': [1641.0, 494.0, 40.123, 91.049],\n",
       "  'conf': 6.0638,\n",
       "  'frames': [2],\n",
       "  'positions': [(1661, 539)]}]"
      ]
     },
     "execution_count": 6,
     "metadata": {},
     "output_type": "execute_result"
    }
   ],
   "source": [
    "# Example with frame 1 and 2\n",
    "# Update tracks\n",
    "current_boxes = []\n",
    "for i, row in detections_df[detections_df['frame'] == 2].iterrows():\n",
    "    current_boxes.append([row['bb_left'], row['bb_top'], row['bb_width'], row['bb_height']])\n",
    "current_conf = detections_df[detections_df['frame'] == 2]['conf'].tolist()\n",
    "\n",
    "tracks = update_tracks(matches, unmatched_tracks, unmatched_detections, current_boxes, current_conf, previous_tracks, 2)\n",
    "tracks"
   ]
  },
  {
   "cell_type": "markdown",
   "metadata": {},
   "source": [
    "#### Interface (main loop)"
   ]
  },
  {
   "cell_type": "code",
   "execution_count": 7,
   "metadata": {},
   "outputs": [],
   "source": [
    "# Main loop\n",
    "image_frames_path = '../data/img1/' \n",
    "\n",
    "# Define properties for the output video\n",
    "fps = 30\n",
    "frame_size = (1920, 1080)  # Adjust this to match the size of your frames\n",
    "fourcc = cv2.VideoWriter_fourcc(*'mp4v')  # Use 'mp4v' codec\n",
    "out = cv2.VideoWriter('output_with_tracking.mp4', fourcc, fps, frame_size)\n",
    "delay = int(1000/fps)\n",
    "\n",
    "# Initialize tracking variables\n",
    "tracks = []\n",
    "frame_number = 1\n",
    "sigma_iou = 0.2\n",
    "\n",
    "tracking_file = 'track.txt'\n",
    "if os.path.isfile(tracking_file):\n",
    "    open(tracking_file, 'w').close()\n",
    "else:\n",
    "    open(tracking_file, 'x')\n",
    "\n",
    "# Process each image frame\n",
    "for filename in sorted(os.listdir(image_frames_path)):\n",
    "    if filename.endswith(\".jpg\"):\n",
    "        frame_path = os.path.join(image_frames_path, filename)\n",
    "        frame = cv2.imread(frame_path)\n",
    "\n",
    "        # Get current detections for this frame\n",
    "        current_detections_df = detections_df[detections_df['frame'] == frame_number]\n",
    "        current_boxes = current_detections_df[['bb_left', 'bb_top', 'bb_width', 'bb_height']].values\n",
    "        current_confidences = current_detections_df['conf'].values\n",
    "\n",
    "        # Compute similarity matrix and associate detections to tracks\n",
    "        if frame_number > 1:\n",
    "            similarity_matrix = create_similarity_matrix(current_boxes, tracks)\n",
    "            matches, unmatched_detections, unmatched_tracks = associate_detections_to_tracks(similarity_matrix, sigma_iou=0.5)\n",
    "            tracks = update_tracks(matches, unmatched_tracks, unmatched_detections, current_boxes, current_confidences, tracks, frame_number)\n",
    "        else:\n",
    "            for i, row in current_detections_df.iterrows():\n",
    "                initial_center = (int(row['bb_left'] + row['bb_width'] / 2), int(row['bb_top'] + row['bb_height'] / 2))\n",
    "                tracks.append({\n",
    "                    'id': row['id'],\n",
    "                    'box': [row['bb_left'], row['bb_top'], row['bb_width'], row['bb_height']],\n",
    "                    'conf': row['conf'],\n",
    "                    'frames': [frame_number],\n",
    "                    'positions': [initial_center]\n",
    "                })\n",
    "\n",
    "        # print(f'Frame {frame_number}: {len(tracks)} tracks, {len(unmatched_detections)} unmatched detections, {len(unmatched_tracks)} unmatched tracks, {len(matches)} matches')\n",
    "        \n",
    "        # Draw tracking\n",
    "        frame_with_tracking = draw_tracking_result(frame, tracks)\n",
    "        # Save the tracking results\n",
    "        save_tracking_results(tracks, tracking_file, frame_number)\n",
    "\n",
    "        # Show the frame\n",
    "        cv2.imshow('Tracking', frame_with_tracking)\n",
    "        if cv2.waitKey(delay) & 0xFF == ord('q'):\n",
    "            break\n",
    "        out.write(frame_with_tracking)\n",
    "\n",
    "        frame_number += 1\n",
    "\n",
    "# Release everything when done\n",
    "out.release()\n",
    "cv2.destroyAllWindows()"
   ]
  }
 ],
 "metadata": {
  "kernelspec": {
   "display_name": "Python 3",
   "language": "python",
   "name": "python3"
  },
  "language_info": {
   "codemirror_mode": {
    "name": "ipython",
    "version": 3
   },
   "file_extension": ".py",
   "mimetype": "text/x-python",
   "name": "python",
   "nbconvert_exporter": "python",
   "pygments_lexer": "ipython3",
   "version": "3.10.12"
  }
 },
 "nbformat": 4,
 "nbformat_minor": 2
}
